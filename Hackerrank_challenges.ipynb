{
  "nbformat": 4,
  "nbformat_minor": 0,
  "metadata": {
    "colab": {
      "name": "Hackerrank_challenges.ipynb",
      "provenance": [],
      "authorship_tag": "ABX9TyPOnAVscrrQnjaRadA1j9gw",
      "include_colab_link": true
    },
    "kernelspec": {
      "name": "python3",
      "display_name": "Python 3"
    },
    "language_info": {
      "name": "python"
    }
  },
  "cells": [
    {
      "cell_type": "markdown",
      "metadata": {
        "id": "view-in-github",
        "colab_type": "text"
      },
      "source": [
        "<a href=\"https://colab.research.google.com/github/Jaise152/Learning/blob/main/Hackerrank_challenges.ipynb\" target=\"_parent\"><img src=\"https://colab.research.google.com/assets/colab-badge.svg\" alt=\"Open In Colab\"/></a>"
      ]
    },
    {
      "cell_type": "code",
      "execution_count": 1,
      "metadata": {
        "colab": {
          "base_uri": "https://localhost:8080/"
        },
        "id": "jn0PEMOV3UTU",
        "outputId": "979f7778-fbaf-4406-e7c0-120fe5b385f2"
      },
      "outputs": [
        {
          "output_type": "stream",
          "name": "stdout",
          "text": [
            "Mounted at /content/drive\n"
          ]
        }
      ],
      "source": [
        "#from google.colab import drive\n",
        "#drive.mount('/content/drive')"
      ]
    },
    {
      "cell_type": "markdown",
      "source": [
        "Given an array of integers, calculate the ratios of its elements that are positive, negative, and zero. Print the decimal value of each fraction on a new line with  places after the decimal.\n",
        "\n",
        "Note: This challenge introduces precision problems. The test cases are scaled to six decimal places, though answers with absolute error of up to  are acceptable."
      ],
      "metadata": {
        "id": "LcoiCYYB46e0"
      }
    },
    {
      "cell_type": "code",
      "source": [
        "def plusMinus(arr):\n",
        "    # Write your code here\n",
        "    p=0\n",
        "    n=0\n",
        "    z=0\n",
        "    for i in range(len(arr)):\n",
        "        if arr[i] == 0:\n",
        "            z =z+1\n",
        "        elif arr[i] >= 1:\n",
        "            p=p+1\n",
        "        else:\n",
        "            n =n+1\n",
        "    \n",
        "    print( \n",
        "    \"{:6f}\".format(round(p/len(arr),6)),'\\n',\n",
        "    \"{:6f}\".format(round(n/len(arr),6)),'\\n', \n",
        "    \"{:6f}\".format(round(z/len(arr),6))\n",
        "    )"
      ],
      "metadata": {
        "id": "wSLx-eyf3d1O"
      },
      "execution_count": 2,
      "outputs": []
    },
    {
      "cell_type": "code",
      "source": [
        ""
      ],
      "metadata": {
        "id": "sps-a99O4zfP"
      },
      "execution_count": null,
      "outputs": []
    }
  ]
}